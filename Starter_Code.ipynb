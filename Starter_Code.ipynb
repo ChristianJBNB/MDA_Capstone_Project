{
 "cells": [
  {
   "cell_type": "markdown",
   "id": "2b175ed2",
   "metadata": {},
   "source": [
    "# Code for Cleaning, Manipulating, and Predicting Car Sales"
   ]
  },
  {
   "cell_type": "markdown",
   "id": "1dd8660b",
   "metadata": {},
   "source": [
    "### Read in the csv file"
   ]
  },
  {
   "cell_type": "code",
   "execution_count": 4,
   "id": "b05a8ab7-7d88-40eb-9c75-6487595bb843",
   "metadata": {},
   "outputs": [
    {
     "name": "stdout",
     "output_type": "stream",
     "text": [
      "<class 'pandas.core.frame.DataFrame'>\n",
      "RangeIndex: 19237 entries, 0 to 19236\n",
      "Data columns (total 18 columns):\n",
      " #   Column            Non-Null Count  Dtype  \n",
      "---  ------            --------------  -----  \n",
      " 0   ID                19237 non-null  int64  \n",
      " 1   Price             19237 non-null  int64  \n",
      " 2   Levy              19237 non-null  object \n",
      " 3   Manufacturer      19237 non-null  object \n",
      " 4   Model             19237 non-null  object \n",
      " 5   Prod. year        19237 non-null  int64  \n",
      " 6   Category          19237 non-null  object \n",
      " 7   Leather interior  19237 non-null  object \n",
      " 8   Fuel type         19237 non-null  object \n",
      " 9   Engine volume     19237 non-null  object \n",
      " 10  Mileage           19237 non-null  object \n",
      " 11  Cylinders         19237 non-null  float64\n",
      " 12  Gear box type     19237 non-null  object \n",
      " 13  Drive wheels      19237 non-null  object \n",
      " 14  Doors             19237 non-null  object \n",
      " 15  Wheel             19237 non-null  object \n",
      " 16  Color             19237 non-null  object \n",
      " 17  Airbags           19237 non-null  int64  \n",
      "dtypes: float64(1), int64(4), object(13)\n",
      "memory usage: 2.6+ MB\n"
     ]
    }
   ],
   "source": [
    "import pandas as pd\n",
    "\n",
    "train_full = pd.read_csv('train.csv')  \t\n",
    "train_full.info() "
   ]
  },
  {
   "cell_type": "markdown",
   "id": "0b62710e",
   "metadata": {},
   "source": [
    "### Look at inital data"
   ]
  },
  {
   "cell_type": "code",
   "execution_count": 6,
   "id": "c628c3c4-3441-435a-b61a-2773d4e4ed43",
   "metadata": {},
   "outputs": [
    {
     "name": "stdout",
     "output_type": "stream",
     "text": [
      "         ID  Price  Levy Manufacturer     Model  Prod. year   Category  \\\n",
      "0  45654403  13328  1399        LEXUS    RX 450        2010       Jeep   \n",
      "1  44731507  16621  1018    CHEVROLET   Equinox        2011       Jeep   \n",
      "2  45774419   8467     -        HONDA       FIT        2006  Hatchback   \n",
      "3  45769185   3607   862         FORD    Escape        2011       Jeep   \n",
      "4  45809263  11726   446        HONDA       FIT        2014  Hatchback   \n",
      "5  45802912  39493   891      HYUNDAI  Santa FE        2016       Jeep   \n",
      "6  45656768   1803   761       TOYOTA     Prius        2010  Hatchback   \n",
      "7  45816158    549   751      HYUNDAI    Sonata        2013      Sedan   \n",
      "8  45641395   1098   394       TOYOTA     Camry        2014      Sedan   \n",
      "9  45756839  26657     -        LEXUS    RX 350        2007       Jeep   \n",
      "\n",
      "  Leather interior Fuel type Engine volume    Mileage  Cylinders  \\\n",
      "0              Yes    Hybrid           3.5  186005 km        6.0   \n",
      "1               No    Petrol             3  192000 km        6.0   \n",
      "2               No    Petrol           1.3  200000 km        4.0   \n",
      "3              Yes    Hybrid           2.5  168966 km        4.0   \n",
      "4              Yes    Petrol           1.3   91901 km        4.0   \n",
      "5              Yes    Diesel             2  160931 km        4.0   \n",
      "6              Yes    Hybrid           1.8  258909 km        4.0   \n",
      "7              Yes    Petrol           2.4  216118 km        4.0   \n",
      "8              Yes    Hybrid           2.5  398069 km        4.0   \n",
      "9              Yes    Petrol           3.5  128500 km        6.0   \n",
      "\n",
      "  Gear box type Drive wheels   Doors             Wheel   Color  Airbags  \n",
      "0     Automatic          4x4  04-May        Left wheel  Silver       12  \n",
      "1     Tiptronic          4x4  04-May        Left wheel   Black        8  \n",
      "2      Variator        Front  04-May  Right-hand drive   Black        2  \n",
      "3     Automatic          4x4  04-May        Left wheel   White        0  \n",
      "4     Automatic        Front  04-May        Left wheel  Silver        4  \n",
      "5     Automatic        Front  04-May        Left wheel   White        4  \n",
      "6     Automatic        Front  04-May        Left wheel   White       12  \n",
      "7     Automatic        Front  04-May        Left wheel    Grey       12  \n",
      "8     Automatic        Front  04-May        Left wheel   Black       12  \n",
      "9     Automatic          4x4  04-May        Left wheel  Silver       12  \n",
      "                 ID         Price    Prod. year     Cylinders       Airbags\n",
      "count  1.923700e+04  1.923700e+04  19237.000000  19237.000000  19237.000000\n",
      "mean   4.557654e+07  1.855593e+04   2010.912824      4.582991      6.582627\n",
      "std    9.365914e+05  1.905813e+05      5.668673      1.199933      4.320168\n",
      "min    2.074688e+07  1.000000e+00   1939.000000      1.000000      0.000000\n",
      "25%    4.569837e+07  5.331000e+03   2009.000000      4.000000      4.000000\n",
      "50%    4.577231e+07  1.317200e+04   2012.000000      4.000000      6.000000\n",
      "75%    4.580204e+07  2.207500e+04   2015.000000      4.000000     12.000000\n",
      "max    4.581665e+07  2.630750e+07   2020.000000     16.000000     16.000000\n"
     ]
    }
   ],
   "source": [
    "print(train_full.head(n=10))\n",
    "print(train_full.describe())"
   ]
  },
  {
   "cell_type": "markdown",
   "id": "b900c182",
   "metadata": {},
   "source": []
  },
  {
   "cell_type": "code",
   "execution_count": null,
   "id": "a32346dd-1dbc-40ae-865f-04cbf5f3a3db",
   "metadata": {},
   "outputs": [],
   "source": []
  }
 ],
 "metadata": {
  "kernelspec": {
   "display_name": "Python 3 (ipykernel)",
   "language": "python",
   "name": "python3"
  },
  "language_info": {
   "codemirror_mode": {
    "name": "ipython",
    "version": 3
   },
   "file_extension": ".py",
   "mimetype": "text/x-python",
   "name": "python",
   "nbconvert_exporter": "python",
   "pygments_lexer": "ipython3",
   "version": "3.11.5"
  }
 },
 "nbformat": 4,
 "nbformat_minor": 5
}
